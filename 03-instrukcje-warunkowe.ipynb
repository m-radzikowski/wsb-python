{
 "cells": [
  {
   "cell_type": "markdown",
   "metadata": {},
   "source": [
    "# Python - instrukcje warunkowe"
   ]
  },
  {
   "cell_type": "markdown",
   "metadata": {},
   "source": [
    "## Instrukcja if\n",
    "\n",
    "Instrukcja `if` jest podstawową instrukcją pozwalającą na sterowanie przebiegiem programu.\n",
    "\n",
    "Definiujemy ją poprzez podanie warunku zwracającego wartość logiczną (`True` lub `False`)\n",
    "oraz bloku kodu do wykonania, jeśli warunek jest prawdziwy (`True`).\n",
    "\n",
    "Blok kodu tworzymy poprzez wcięcie - 4 spacjami. Jupyter Notebook (i większość IDE) automatycznie wstawi 4 spacje po naciśnięciu Tab.\n",
    "\n",
    "```python\n",
    "if True:\n",
    "    print(\"prawda!\")\n",
    "```\n",
    "\n",
    "#### Zadanie\n",
    "\n",
    "Stwórz zmienną `name` i `age` o dowolnych wartościach. Napisz kod z instrukcjami warunkowymi wypisującymi tekst jeśli:\n",
    "\n",
    "- imię to \"Tomek\"\n",
    "- wiek jest większy od 20\n",
    "- imię to \"Janek\" a wiek jest mniejszy od 30\n",
    "\n",
    "Sprawdź jak działa kod zmieniając wartości zmiennych `name` i `age`."
   ]
  },
  {
   "cell_type": "code",
   "execution_count": 4,
   "metadata": {},
   "outputs": [
    {
     "name": "stdout",
     "output_type": "stream",
     "text": [
      "Imię to Tomek\n",
      "Powyżej 20 lat\n"
     ]
    }
   ],
   "source": [
    "name = \"Tomek\"\n",
    "age = 25\n",
    "\n",
    "if name == \"Tomek\":\n",
    "    print(\"Imię to Tomek\")\n",
    "\n",
    "if age > 20:\n",
    "    print(\"Powyżej 20 lat\")\n",
    "\n",
    "if name == \"Janek\" and age < 30:\n",
    "    print(\"Janek ma poniżej 30 lat\")"
   ]
  },
  {
   "cell_type": "markdown",
   "metadata": {},
   "source": [
    "## Instrukcje elif i else\n",
    "\n",
    "Po bloku dla instrukcji `if` mogą nastąpić kolejne bloki `elif` (\"else if\"), z kolejnymi warunkami do sprawdzenia i blokami kodu do wykonania.\n",
    "Kolejne warunki zostaną sprawdzone tylko wtedy, gdy żaden poprzedni nie zostanie spełniony.\n",
    "\n",
    "Jako ostatni może wystąpić blok `else`. Zostanie on wykonany zawsze jeżeli żaden wcześniejszy warunek nie zostanie spełniony.\n",
    "\n",
    "```python\n",
    "if warunek:\n",
    "    print(\"warunek jest True\")\n",
    "elif inny_warunek:\n",
    "    print(\"warunek jest False, ale inny_warunek jest True\")\n",
    "elif jeszcze_inny_warunek:\n",
    "    print(\"oba wcześniejsze są False, ale jeszcze_inny_warunek jest True\")\n",
    "else:\n",
    "    print(\"żaden z warunków nie był True\")\n",
    "```\n",
    "\n",
    "#### Zadanie\n",
    "\n",
    "Stwórz zmienną `x` i przypisz jej liczbę. Napisz kod który wypisuje, czy liczba jest parzysta czy nie.\n",
    "\n",
    "> Liczba parzysta przy dzieleniu przez 2 zwraca resztę z dzielenia równą 0.  \n",
    "> Operator pobierania reszty z dzielenia: `%`"
   ]
  },
  {
   "cell_type": "code",
   "execution_count": 11,
   "metadata": {},
   "outputs": [
    {
     "name": "stdout",
     "output_type": "stream",
     "text": [
      "Parzysta\n"
     ]
    }
   ],
   "source": [
    "x = 4\n",
    "if x % 2 == 0:\n",
    "    print(\"Parzysta\")\n",
    "else:\n",
    "    print(\"Nieparzysta\")"
   ]
  },
  {
   "cell_type": "markdown",
   "metadata": {},
   "source": [
    "#### Zadanie\n",
    "\n",
    "Stwórz zmienną `name` i przypisz jej wartość. Mając poniższe zmienne `my_name`, `my_friends` oraz `my_enemies`, napisz kod, który:\n",
    "\n",
    "- jeśli imię jest takie samo jak `my_name`, wypisze \"to ja\"\n",
    "- jeśli imię należy do przyjaciela, wypisze \"to mój przyjaciel\"\n",
    "- jeśli imię należy do wroga, wypisze \"to mój wróg\"\n",
    "- w pozostałych przypadkach wypisze \"nie znam\"\n",
    "\n",
    "Pamiętaj o wykonaniu poniższego bloku kodu w celu załadowania zmiennych do pamięci!"
   ]
  },
  {
   "cell_type": "code",
   "execution_count": 15,
   "metadata": {},
   "outputs": [],
   "source": [
    "my_name = \"Tomek\"\n",
    "my_friends = [\"Asia\", \"Kasia\", \"Jacek\"]\n",
    "my_enemies = [\"Darek\", \"Zosia\"]"
   ]
  },
  {
   "cell_type": "code",
   "execution_count": 20,
   "metadata": {},
   "outputs": [
    {
     "name": "stdout",
     "output_type": "stream",
     "text": [
      "to ja\n"
     ]
    }
   ],
   "source": [
    "name = \"Tomek\"\n",
    "if name == my_name:\n",
    "    print(\"to ja\")\n",
    "elif name in my_friends:\n",
    "    print(\"to mój przyjaciel\")\n",
    "elif name in my_enemies:\n",
    "    print(\"to mój wróg\")\n",
    "else:\n",
    "    print(\"nie znam\")"
   ]
  }
 ],
 "metadata": {
  "kernelspec": {
   "display_name": "Python 3",
   "language": "python",
   "name": "python3"
  },
  "language_info": {
   "codemirror_mode": {
    "name": "ipython",
    "version": 3
   },
   "file_extension": ".py",
   "mimetype": "text/x-python",
   "name": "python",
   "nbconvert_exporter": "python",
   "pygments_lexer": "ipython3",
   "version": "3.8.5"
  }
 },
 "nbformat": 4,
 "nbformat_minor": 4
}
