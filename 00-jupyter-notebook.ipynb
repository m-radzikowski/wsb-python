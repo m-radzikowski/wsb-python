{
 "cells": [
  {
   "cell_type": "markdown",
   "metadata": {},
   "source": [
    "# Przykładowy Jupyter Notebook"
   ]
  },
  {
   "cell_type": "markdown",
   "metadata": {},
   "source": [
    "W Jupyter Notebooku występują trzy podstawowe typy komórek:\n",
    "\n",
    "- Code\n",
    "- Markdown\n",
    "- Raw"
   ]
  },
  {
   "cell_type": "markdown",
   "metadata": {},
   "source": [
    "## Code"
   ]
  },
  {
   "cell_type": "code",
   "execution_count": 1,
   "metadata": {},
   "outputs": [
    {
     "name": "stdout",
     "output_type": "stream",
     "text": [
      "Hello Python!\n"
     ]
    }
   ],
   "source": [
    "print(\"Hello Python!\")"
   ]
  },
  {
   "cell_type": "code",
   "execution_count": 2,
   "metadata": {},
   "outputs": [
    {
     "data": {
      "image/png": "[encoded data removed]",
      "text/plain": [
       "<Figure size 432x288 with 1 Axes>"
      ]
     },
     "metadata": {},
     "output_type": "display_data"
    }
   ],
   "source": [
    "%matplotlib inline\n",
    "import numpy as np\n",
    "import matplotlib.pyplot as plt\n",
    "plt.style.use('seaborn-white')\n",
    "\n",
    "data = np.random.randn(1000)\n",
    "plt.hist(data, bins=30);"
   ]
  },
  {
   "cell_type": "markdown",
   "metadata": {},
   "source": [
    "## Markdown"
   ]
  },
  {
   "cell_type": "markdown",
   "metadata": {},
   "source": [
    "Komórki tekstowe wspierają formatowanie Markdown - proste formatowanie tekstu. Na przykład kod:\n",
    "\n",
    "```markdown\n",
    "**pogrubienie**\n",
    "\n",
    "- lista\n",
    "- elementów\n",
    "```\n",
    "\n",
    "wygeneruje tekst:\n",
    "\n",
    "**pogrubienie**\n",
    "\n",
    "- lista\n",
    "- elementów"
   ]
  },
  {
   "cell_type": "markdown",
   "metadata": {},
   "source": [
    "Jupyter Notebook obsługuje także formatowanie LaTeX:\n",
    "\n",
    "$$e^x=\\sum_{i=0}^\\infty \\frac{1}{i!}x^i$$"
   ]
  },
  {
   "cell_type": "markdown",
   "metadata": {},
   "source": [
    "## Podstawowe skróty klawiszowe\n",
    "\n",
    "- `Enter` - edytuj komórkę\n",
    "- `Esc` - wyjdź z edycji komórki\n",
    "- `Ctrl + Enter` - wykonaj komórkę\n",
    "- `Shift + Enter` - wykonaj komórkę, przejdź do kolejnej\n",
    "\n",
    "W trybie \"poza edycją komórki\":\n",
    "\n",
    "- strzałki góra / dół - przejdź do komórki wyżej / niżej\n",
    "- `A` - dodaj komórkę powyżej (\"**a**bove\")\n",
    "- `B` - dodaj komórkę poniżej (\"**b**elow\")\n",
    "- `D D` - usuń zaznaczoną komórkę"
   ]
  }
 ],
 "metadata": {
  "anaconda-cloud": {},
  "kernelspec": {
   "display_name": "Python 3",
   "language": "python",
   "name": "python3"
  },
  "language_info": {
   "codemirror_mode": {
    "name": "ipython",
    "version": 3
   },
   "file_extension": ".py",
   "mimetype": "text/x-python",
   "name": "python",
   "nbconvert_exporter": "python",
   "pygments_lexer": "ipython3",
   "version": "3.8.5"
  }
 },
 "nbformat": 4,
 "nbformat_minor": 4
}
