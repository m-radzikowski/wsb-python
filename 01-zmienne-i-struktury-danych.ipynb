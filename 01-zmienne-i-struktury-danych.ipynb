{
 "cells": [
  {
   "cell_type": "markdown",
   "metadata": {},
   "source": [
    "# Python - zmienne i struktury danych"
   ]
  },
  {
   "cell_type": "markdown",
   "metadata": {},
   "source": [
    "## Hello World\n",
    "\n",
    "Tradycyjny pierwszy \"program\" w nowym języku - wypisz na ekran \"Hello World\"\n",
    "\n",
    "Do wypisywania wartości na standardowe wyjście - w tym przypadku ekran - służy **funkcja `print()`**, przyjmująca jako argument dowolny tekst. Tekst deklarujemy w cudzysłowach (`\"`) bądź apostrofach (`'`)."
   ]
  },
  {
   "cell_type": "code",
   "execution_count": 1,
   "metadata": {},
   "outputs": [
    {
     "name": "stdout",
     "output_type": "stream",
     "text": [
      "Hello World\n"
     ]
    }
   ],
   "source": [
    "print(\"Hello World\")"
   ]
  },
  {
   "cell_type": "markdown",
   "metadata": {},
   "source": [
    "## Zmienne i obliczenia\n",
    "\n",
    "Stwórz zmienną `a` o wartości 3 oraz zmienną `b` o wartości 4.\n",
    "\n",
    "Następnie oblicz i podaj wynik:\n",
    "\n",
    "- dodawania\n",
    "- odejmowania\n",
    "- dzielenia\n",
    "- mnożenia\n",
    "- potęgowania\n",
    "- reszty z dzielenia"
   ]
  },
  {
   "cell_type": "code",
   "execution_count": 2,
   "metadata": {},
   "outputs": [],
   "source": [
    "a = 3\n",
    "b = 4"
   ]
  },
  {
   "cell_type": "code",
   "execution_count": 3,
   "metadata": {},
   "outputs": [
    {
     "data": {
      "text/plain": [
       "7"
      ]
     },
     "execution_count": 3,
     "metadata": {},
     "output_type": "execute_result"
    }
   ],
   "source": [
    "a + b"
   ]
  },
  {
   "cell_type": "code",
   "execution_count": 4,
   "metadata": {},
   "outputs": [
    {
     "data": {
      "text/plain": [
       "-1"
      ]
     },
     "execution_count": 4,
     "metadata": {},
     "output_type": "execute_result"
    }
   ],
   "source": [
    "a - b"
   ]
  },
  {
   "cell_type": "code",
   "execution_count": 5,
   "metadata": {},
   "outputs": [
    {
     "data": {
      "text/plain": [
       "0.75"
      ]
     },
     "execution_count": 5,
     "metadata": {},
     "output_type": "execute_result"
    }
   ],
   "source": [
    "a / b"
   ]
  },
  {
   "cell_type": "code",
   "execution_count": 6,
   "metadata": {},
   "outputs": [
    {
     "data": {
      "text/plain": [
       "12"
      ]
     },
     "execution_count": 6,
     "metadata": {},
     "output_type": "execute_result"
    }
   ],
   "source": [
    "a * b"
   ]
  },
  {
   "cell_type": "code",
   "execution_count": 7,
   "metadata": {},
   "outputs": [
    {
     "data": {
      "text/plain": [
       "81"
      ]
     },
     "execution_count": 7,
     "metadata": {},
     "output_type": "execute_result"
    }
   ],
   "source": [
    "a ** b"
   ]
  },
  {
   "cell_type": "code",
   "execution_count": 8,
   "metadata": {},
   "outputs": [
    {
     "data": {
      "text/plain": [
       "3"
      ]
     },
     "execution_count": 8,
     "metadata": {},
     "output_type": "execute_result"
    }
   ],
   "source": [
    "a % b"
   ]
  },
  {
   "cell_type": "markdown",
   "metadata": {},
   "source": [
    "Powiększ wartość zmiennej `b` o 3"
   ]
  },
  {
   "cell_type": "code",
   "execution_count": 9,
   "metadata": {},
   "outputs": [
    {
     "data": {
      "text/plain": [
       "7"
      ]
     },
     "execution_count": 9,
     "metadata": {},
     "output_type": "execute_result"
    }
   ],
   "source": [
    "b += 3\n",
    "b"
   ]
  },
  {
   "cell_type": "markdown",
   "metadata": {},
   "source": [
    "## Podstawowe typy zmiennych\n",
    "\n",
    "Stwórz zmienne zawierające:\n",
    "\n",
    "- liczbę całkowitą\n",
    "- liczbę z częścią dziesiętną\n",
    "- tekst\n",
    "- wartości logiczne \"prawda\" (`True`) i \"fałsz\" (`False`)\n",
    "\n",
    "Sprawdź ich typy za pomocą funkcji `type()`. Spróbuj dodać różne pary zmiennych do siebie i sprawdź wynikowe typy."
   ]
  },
  {
   "cell_type": "code",
   "execution_count": 10,
   "metadata": {},
   "outputs": [
    {
     "data": {
      "text/plain": [
       "int"
      ]
     },
     "execution_count": 10,
     "metadata": {},
     "output_type": "execute_result"
    }
   ],
   "source": [
    "x = 1\n",
    "type(x)"
   ]
  },
  {
   "cell_type": "code",
   "execution_count": 11,
   "metadata": {},
   "outputs": [
    {
     "data": {
      "text/plain": [
       "float"
      ]
     },
     "execution_count": 11,
     "metadata": {},
     "output_type": "execute_result"
    }
   ],
   "source": [
    "y = 2.5\n",
    "type(y)"
   ]
  },
  {
   "cell_type": "code",
   "execution_count": 12,
   "metadata": {},
   "outputs": [
    {
     "data": {
      "text/plain": [
       "str"
      ]
     },
     "execution_count": 12,
     "metadata": {},
     "output_type": "execute_result"
    }
   ],
   "source": [
    "s = \"Python jest fajny\"\n",
    "type(s)"
   ]
  },
  {
   "cell_type": "code",
   "execution_count": 13,
   "metadata": {},
   "outputs": [
    {
     "name": "stdout",
     "output_type": "stream",
     "text": [
      "True\n"
     ]
    },
    {
     "data": {
      "text/plain": [
       "bool"
      ]
     },
     "execution_count": 13,
     "metadata": {},
     "output_type": "execute_result"
    }
   ],
   "source": [
    "t = True\n",
    "print(t)\n",
    "type(t)"
   ]
  },
  {
   "cell_type": "code",
   "execution_count": 14,
   "metadata": {},
   "outputs": [
    {
     "name": "stdout",
     "output_type": "stream",
     "text": [
      "False\n"
     ]
    },
    {
     "data": {
      "text/plain": [
       "bool"
      ]
     },
     "execution_count": 14,
     "metadata": {},
     "output_type": "execute_result"
    }
   ],
   "source": [
    "f = False\n",
    "print(f)\n",
    "type(f)"
   ]
  },
  {
   "cell_type": "code",
   "execution_count": 15,
   "metadata": {},
   "outputs": [
    {
     "name": "stdout",
     "output_type": "stream",
     "text": [
      "3.5\n"
     ]
    },
    {
     "data": {
      "text/plain": [
       "float"
      ]
     },
     "execution_count": 15,
     "metadata": {},
     "output_type": "execute_result"
    }
   ],
   "source": [
    "xy = x + y\n",
    "print(xy)\n",
    "type(xy)"
   ]
  },
  {
   "cell_type": "code",
   "execution_count": 16,
   "metadata": {},
   "outputs": [
    {
     "ename": "TypeError",
     "evalue": "unsupported operand type(s) for +: 'float' and 'str'",
     "output_type": "error",
     "traceback": [
      "\u001b[0;31m---------------------------------------------------------------------------\u001b[0m",
      "\u001b[0;31mTypeError\u001b[0m                                 Traceback (most recent call last)",
      "\u001b[0;32m<ipython-input-16-53f71103e3bf>\u001b[0m in \u001b[0;36m<module>\u001b[0;34m\u001b[0m\n\u001b[0;32m----> 1\u001b[0;31m \u001b[0mys\u001b[0m \u001b[0;34m=\u001b[0m \u001b[0my\u001b[0m \u001b[0;34m+\u001b[0m \u001b[0ms\u001b[0m\u001b[0;34m\u001b[0m\u001b[0;34m\u001b[0m\u001b[0m\n\u001b[0m\u001b[1;32m      2\u001b[0m \u001b[0mprint\u001b[0m\u001b[0;34m(\u001b[0m\u001b[0mys\u001b[0m\u001b[0;34m)\u001b[0m\u001b[0;34m\u001b[0m\u001b[0;34m\u001b[0m\u001b[0m\n\u001b[1;32m      3\u001b[0m \u001b[0mtype\u001b[0m\u001b[0;34m(\u001b[0m\u001b[0mys\u001b[0m\u001b[0;34m)\u001b[0m\u001b[0;34m\u001b[0m\u001b[0;34m\u001b[0m\u001b[0m\n",
      "\u001b[0;31mTypeError\u001b[0m: unsupported operand type(s) for +: 'float' and 'str'"
     ]
    }
   ],
   "source": [
    "ys = y + s\n",
    "print(ys)\n",
    "type(ys)"
   ]
  },
  {
   "cell_type": "code",
   "execution_count": 17,
   "metadata": {},
   "outputs": [
    {
     "ename": "TypeError",
     "evalue": "unsupported operand type(s) for +: 'bool' and 'str'",
     "output_type": "error",
     "traceback": [
      "\u001b[0;31m---------------------------------------------------------------------------\u001b[0m",
      "\u001b[0;31mTypeError\u001b[0m                                 Traceback (most recent call last)",
      "\u001b[0;32m<ipython-input-17-8d810e7d776e>\u001b[0m in \u001b[0;36m<module>\u001b[0;34m\u001b[0m\n\u001b[0;32m----> 1\u001b[0;31m \u001b[0mts\u001b[0m \u001b[0;34m=\u001b[0m \u001b[0mt\u001b[0m \u001b[0;34m+\u001b[0m \u001b[0ms\u001b[0m\u001b[0;34m\u001b[0m\u001b[0;34m\u001b[0m\u001b[0m\n\u001b[0m",
      "\u001b[0;31mTypeError\u001b[0m: unsupported operand type(s) for +: 'bool' and 'str'"
     ]
    }
   ],
   "source": [
    "ts = t + s"
   ]
  },
  {
   "cell_type": "code",
   "execution_count": 18,
   "metadata": {},
   "outputs": [
    {
     "name": "stdout",
     "output_type": "stream",
     "text": [
      "1\n"
     ]
    },
    {
     "data": {
      "text/plain": [
       "int"
      ]
     },
     "execution_count": 18,
     "metadata": {},
     "output_type": "execute_result"
    }
   ],
   "source": [
    "tf = t + f\n",
    "print(tf)\n",
    "type(tf)"
   ]
  },
  {
   "cell_type": "code",
   "execution_count": 19,
   "metadata": {},
   "outputs": [
    {
     "name": "stdout",
     "output_type": "stream",
     "text": [
      "Python jest fajnyPython jest fajnyPython jest fajny\n"
     ]
    },
    {
     "data": {
      "text/plain": [
       "str"
      ]
     },
     "execution_count": 19,
     "metadata": {},
     "output_type": "execute_result"
    }
   ],
   "source": [
    "sss = s + s + s\n",
    "print(sss)\n",
    "type(s)"
   ]
  },
  {
   "cell_type": "markdown",
   "metadata": {},
   "source": [
    "## Nadpisywanie zmiennych\n",
    "\n",
    "Typ wartości zmiennej jest automatycznie wykrywany przez Pythona (\"type inference\") i nie wymaga ręcznej deklaracji.\n",
    "\n",
    "**Typ przypisany jest do wartości**, nie do zmiennej. Oznacza to, że gdy \"nadpisujemy\" zmienną - ponownie deklarujemy, zmieniając jej wartość - nie musi być to wartość tego samego typu."
   ]
  },
  {
   "cell_type": "markdown",
   "metadata": {},
   "source": [
    "#### Zadanie\n",
    "\n",
    "Zadeklaruj zmienną i przypisz jej wartość `3`, następnie przypisz tej zmiennej wynik mnożenia wartości x 2.5."
   ]
  },
  {
   "cell_type": "code",
   "execution_count": 20,
   "metadata": {},
   "outputs": [
    {
     "name": "stdout",
     "output_type": "stream",
     "text": [
      "<class 'int'>\n",
      "<class 'float'>\n"
     ]
    },
    {
     "data": {
      "text/plain": [
       "7.5"
      ]
     },
     "execution_count": 20,
     "metadata": {},
     "output_type": "execute_result"
    }
   ],
   "source": [
    "z = 3\n",
    "print(type(z))\n",
    "z = z * 2.5\n",
    "print(type(z))\n",
    "z"
   ]
  },
  {
   "cell_type": "markdown",
   "metadata": {},
   "source": [
    "## Lista - deklaracja i operacje\n",
    "\n",
    "Lista to kolekcja danych, mogąca przechowywać dowolne elementy. Elementy listy nie muszą być tego samego typu.\n",
    "\n",
    "Listę można modyfikować, dodając, usuwając oraz modyfikując jej elementy.\n",
    "\n",
    "Lista przechowuje elementy w określonej kolejności. Tak jak w większości języków programowania, numeracja elementów listy zaczyna się od 0.\n",
    "\n",
    "Listę deklarujemy poprzez podanie elementów po przecinkach w nawiasach kwadratowych (`[]`).\n",
    "\n",
    "#### Zadanie\n",
    "\n",
    "Stwórz listę składającą się z dowolnych czterech liczb, a następnie:\n",
    "\n",
    "- wypisz elementy spod indeksów: 0, 1, 3, -1\n",
    "- wypisz element spod indeksu 4\n",
    "- wypisz elementy od indeksu 1 do 3 włącznie\n",
    "- zmień wartość elementu pod indeksem 2\n",
    "- dodaj nowy element na końcu listy (`append()`)\n",
    "- usuń wybraną liczbę z tablicy (`remove()`)\n",
    "- dodaj do tablicy drugą tablicę: `[\"ala\", \"ma\", \"kota\"]`"
   ]
  },
  {
   "cell_type": "code",
   "execution_count": 21,
   "metadata": {},
   "outputs": [
    {
     "name": "stdout",
     "output_type": "stream",
     "text": [
      "[3, 14, 42, 100]\n"
     ]
    }
   ],
   "source": [
    "l = [3, 14, 42, 100]\n",
    "print(l)"
   ]
  },
  {
   "cell_type": "code",
   "execution_count": 22,
   "metadata": {},
   "outputs": [
    {
     "name": "stdout",
     "output_type": "stream",
     "text": [
      "3\n",
      "14\n",
      "100\n",
      "100\n"
     ]
    }
   ],
   "source": [
    "print(l[0])\n",
    "print(l[1])\n",
    "print(l[3])\n",
    "print(l[-1])"
   ]
  },
  {
   "cell_type": "code",
   "execution_count": 23,
   "metadata": {},
   "outputs": [
    {
     "ename": "IndexError",
     "evalue": "list index out of range",
     "output_type": "error",
     "traceback": [
      "\u001b[0;31m---------------------------------------------------------------------------\u001b[0m",
      "\u001b[0;31mIndexError\u001b[0m                                Traceback (most recent call last)",
      "\u001b[0;32m<ipython-input-23-0d01f0b59153>\u001b[0m in \u001b[0;36m<module>\u001b[0;34m\u001b[0m\n\u001b[0;32m----> 1\u001b[0;31m \u001b[0mprint\u001b[0m\u001b[0;34m(\u001b[0m\u001b[0ml\u001b[0m\u001b[0;34m[\u001b[0m\u001b[0;36m4\u001b[0m\u001b[0;34m]\u001b[0m\u001b[0;34m)\u001b[0m\u001b[0;34m\u001b[0m\u001b[0;34m\u001b[0m\u001b[0m\n\u001b[0m",
      "\u001b[0;31mIndexError\u001b[0m: list index out of range"
     ]
    }
   ],
   "source": [
    "print(l[4])"
   ]
  },
  {
   "cell_type": "code",
   "execution_count": 24,
   "metadata": {},
   "outputs": [
    {
     "name": "stdout",
     "output_type": "stream",
     "text": [
      "[14, 42, 100]\n"
     ]
    }
   ],
   "source": [
    "print(l[1:4])"
   ]
  },
  {
   "cell_type": "code",
   "execution_count": 25,
   "metadata": {},
   "outputs": [
    {
     "name": "stdout",
     "output_type": "stream",
     "text": [
      "[3, 14, 0, 100]\n"
     ]
    }
   ],
   "source": [
    "l[2] = 0\n",
    "print(l)"
   ]
  },
  {
   "cell_type": "code",
   "execution_count": 26,
   "metadata": {},
   "outputs": [
    {
     "name": "stdout",
     "output_type": "stream",
     "text": [
      "[3, 14, 0, 100, 13]\n"
     ]
    }
   ],
   "source": [
    "l.append(13)\n",
    "print(l)"
   ]
  },
  {
   "cell_type": "code",
   "execution_count": 27,
   "metadata": {},
   "outputs": [
    {
     "name": "stdout",
     "output_type": "stream",
     "text": [
      "[3, 14, 0, 13]\n"
     ]
    }
   ],
   "source": [
    "l.remove(100)\n",
    "print(l)"
   ]
  },
  {
   "cell_type": "code",
   "execution_count": 28,
   "metadata": {},
   "outputs": [
    {
     "name": "stdout",
     "output_type": "stream",
     "text": [
      "[3, 14, 0, 13, 'ala', 'ma', 'kota']\n"
     ]
    }
   ],
   "source": [
    "l += [\"ala\", \"ma\", \"kota\"]\n",
    "print(l)"
   ]
  },
  {
   "cell_type": "markdown",
   "metadata": {},
   "source": [
    "## Lista - funkcje\n",
    "\n",
    "Sama lista nie ma wielu metod możliwych do wywołania. Jednak w Pythonie oraz bibliotekach istnieje wiele funkcji, które przyjmują listę jako argument. Najprostszymi przykładami są funkcje agregujące.\n",
    "\n",
    "#### Zadanie\n",
    "\n",
    "Stwórz nową listę zawierającą kilka liczb i podaj:\n",
    "\n",
    "- długość listy\n",
    "- ich sumę\n",
    "- największą i najmniejszą z nich"
   ]
  },
  {
   "cell_type": "code",
   "execution_count": 29,
   "metadata": {},
   "outputs": [
    {
     "data": {
      "text/plain": [
       "(5, 89, 33, 8)"
      ]
     },
     "execution_count": 29,
     "metadata": {},
     "output_type": "execute_result"
    }
   ],
   "source": [
    "l = [12, 17, 19, 8, 33]\n",
    "len(l), sum(l), max(l), min(l)"
   ]
  },
  {
   "cell_type": "markdown",
   "metadata": {},
   "source": [
    "## Tuple\n",
    "\n",
    "###### Krotka\n",
    "\n",
    "\"Tuple\" to **niemutowalna** kolekcja elementów. Może, podobnie jak lista, posiadać dowolne elementy. Definiuje się ją poprzez nawiasy okrągłe (`()`),\n",
    "ale dostęp do wartości następuje tak samo jak w listach.\n",
    "\n",
    "| Lista                                                     | Tuple                                                                   |\n",
    "|-----------------------------------------------------------|-------------------------------------------------------------------------|\n",
    "| Mutowalna                                                 | Niemutowalna                                                            |\n",
    "| Zazwyczaj zawiera elementy tego samego lub podobnego typu | Zazwyczaj zawiera różne elementy                                        |\n",
    "| Służy przekazywaniu kolekcji jednorodnych argumentów      | Służy przekazywaniu kolekcji różnorodnych parametrów pomiędzy funkcjami |\n",
    "\n",
    "#### Zadanie\n",
    "\n",
    "Stwórz tuple zawierającą kilka elementów, wypisz pierwszy i ostatni."
   ]
  },
  {
   "cell_type": "code",
   "execution_count": 30,
   "metadata": {},
   "outputs": [
    {
     "data": {
      "text/plain": [
       "('ala', 'ma', 'kota')"
      ]
     },
     "execution_count": 30,
     "metadata": {},
     "output_type": "execute_result"
    }
   ],
   "source": [
    "t = (\"ala\", \"ma\", \"kota\")\n",
    "t"
   ]
  },
  {
   "cell_type": "code",
   "execution_count": 31,
   "metadata": {},
   "outputs": [
    {
     "data": {
      "text/plain": [
       "('ala', 'kota')"
      ]
     },
     "execution_count": 31,
     "metadata": {},
     "output_type": "execute_result"
    }
   ],
   "source": [
    "t[0], t[-1]"
   ]
  },
  {
   "cell_type": "markdown",
   "metadata": {},
   "source": [
    "## Dictionary\n",
    "\n",
    "###### Słownik\n",
    "\n",
    "Dictionary, w innych językach częściej \"mapa\", to kolekcja par **klucz: wartość**.\n",
    "\n",
    "Klucz musi być **niemutowalnego typu** - np. liczba, string lub tuple (jeśli zawiera tylko niemutowalne elementy).\n",
    "Klucze w danej kolekcji nie mogą się powtarzać.\n",
    "\n",
    "Wartość przypisana do klucza może być dowolna.\n",
    "\n",
    "Dictionary tworzony jest poprzez podanie par klucz:wartość w nawiasach klamrowych (`{}`).\n",
    "\n",
    "#### Zadanie\n",
    "\n",
    "Stwórz dictionary zawierający nazwy województw i liczbę mieszkańców:\n",
    "\n",
    "- mazowieckie - 5349114\n",
    "- śląskie - 4570849\n",
    "- wielkopolskie - 3475323\n",
    "\n",
    "Następnie:\n",
    "\n",
    "- wypisz ilość mieszkańców województwa mazowieckiego\n",
    "- wypisz same nazwy województw (`keys()`)\n",
    "- wypisz same ilości mieszkańców województw (`values()`)\n",
    "- podaj sumaryczną ilość mieszkańców województw\n",
    "- dodaj województwo pomorskie (2307710 mieszkańców)\n",
    "- usuń województwo śląskie"
   ]
  },
  {
   "cell_type": "code",
   "execution_count": 32,
   "metadata": {},
   "outputs": [
    {
     "data": {
      "text/plain": [
       "{'mazowieckie': 5349114, 'śląskie': 4570849, 'wielkopolskie': 3475323}"
      ]
     },
     "execution_count": 32,
     "metadata": {},
     "output_type": "execute_result"
    }
   ],
   "source": [
    "regions = {\n",
    "    \"mazowieckie\": 5349114,\n",
    "    \"śląskie\": 4570849,\n",
    "    \"wielkopolskie\": 3475323,\n",
    "}\n",
    "regions"
   ]
  },
  {
   "cell_type": "code",
   "execution_count": 33,
   "metadata": {},
   "outputs": [
    {
     "data": {
      "text/plain": [
       "5349114"
      ]
     },
     "execution_count": 33,
     "metadata": {},
     "output_type": "execute_result"
    }
   ],
   "source": [
    "regions['mazowieckie']"
   ]
  },
  {
   "cell_type": "code",
   "execution_count": 34,
   "metadata": {},
   "outputs": [
    {
     "data": {
      "text/plain": [
       "dict_keys(['mazowieckie', 'śląskie', 'wielkopolskie'])"
      ]
     },
     "execution_count": 34,
     "metadata": {},
     "output_type": "execute_result"
    }
   ],
   "source": [
    "regions.keys()"
   ]
  },
  {
   "cell_type": "code",
   "execution_count": 35,
   "metadata": {},
   "outputs": [
    {
     "data": {
      "text/plain": [
       "dict_values([5349114, 4570849, 3475323])"
      ]
     },
     "execution_count": 35,
     "metadata": {},
     "output_type": "execute_result"
    }
   ],
   "source": [
    "regions.values()"
   ]
  },
  {
   "cell_type": "code",
   "execution_count": 36,
   "metadata": {},
   "outputs": [
    {
     "data": {
      "text/plain": [
       "13395286"
      ]
     },
     "execution_count": 36,
     "metadata": {},
     "output_type": "execute_result"
    }
   ],
   "source": [
    "sum(regions.values())"
   ]
  },
  {
   "cell_type": "code",
   "execution_count": 37,
   "metadata": {},
   "outputs": [
    {
     "data": {
      "text/plain": [
       "{'mazowieckie': 5349114,\n",
       " 'śląskie': 4570849,\n",
       " 'wielkopolskie': 3475323,\n",
       " 'pomorskie': 2307710}"
      ]
     },
     "execution_count": 37,
     "metadata": {},
     "output_type": "execute_result"
    }
   ],
   "source": [
    "regions['pomorskie'] = 2307710\n",
    "regions"
   ]
  },
  {
   "cell_type": "code",
   "execution_count": 38,
   "metadata": {},
   "outputs": [
    {
     "data": {
      "text/plain": [
       "{'mazowieckie': 5349114, 'wielkopolskie': 3475323, 'pomorskie': 2307710}"
      ]
     },
     "execution_count": 38,
     "metadata": {},
     "output_type": "execute_result"
    }
   ],
   "source": [
    "regions.pop('śląskie')\n",
    "regions"
   ]
  },
  {
   "cell_type": "markdown",
   "metadata": {},
   "source": [
    "## String - funkcje i formatowanie\n",
    "\n",
    "Typ tekstowy (`str`) w wielu przypadkach zachowuje się jak lista znaków. Można, tak samo jak z listy, pobrać długość funkcją `len()` albo pojedyncze znaki poprzez indeks w nawiasach kwadratowych.\n",
    "\n",
    "#### Zadanie\n",
    "\n",
    "Stwórz zmienną z tekstem. Wypisz:\n",
    "\n",
    "- długość tekstu\n",
    "- pierwszą i ostatnią literę\n",
    "- pierwsze 5 liter"
   ]
  },
  {
   "cell_type": "code",
   "execution_count": 39,
   "metadata": {},
   "outputs": [
    {
     "name": "stdout",
     "output_type": "stream",
     "text": [
      "11\n",
      "A\n",
      "a\n",
      "Ala m\n"
     ]
    }
   ],
   "source": [
    "txt = 'Ala ma kota'\n",
    "print(len(txt))\n",
    "print(txt[0])\n",
    "print(txt[-1])\n",
    "print(txt[0:5])"
   ]
  },
  {
   "cell_type": "markdown",
   "metadata": {},
   "source": [
    "Wypisywanie tekstu często wymaga umieszczenia w nim wartości zmiennych różnego typu (`str`, `int`, `bool`, itd.). Zmienne typu `str` można łączyć ze sobą znakiem `+`. Aby do tekstu \"dołączyć\" wartość jakiejś innej zmiennej, należy skonwertować ją na tekst metodą `str()`.\n",
    "\n",
    "```python\n",
    "name = 'Janek'\n",
    "age = 18\n",
    "print(name + ' ma ' + str(age) + ' lat')\n",
    "```\n",
    "\n",
    "Jednak lepszym sposobem budowania tekstu jest użycie specjalnej składni formatowania \"f-string\". Przed początkowym apostrofem/cudzysłowem dodajemy `f`, a zmienne (i wyrażenia) umieszczamy w tekście w nawiasach klamrowych (`{}`). Zmienne są automatycznie konwertowane na tekst. Daje to czytelniejszy kod.\n",
    "\n",
    "```python\n",
    "name = 'Janek'\n",
    "age = 18\n",
    "print(f'{name} ma {age} lat')\n",
    "```\n",
    "\n",
    "#### Zadanie\n",
    "\n",
    "Wypisz tekst umieszczając w nim zmienne zawierające tekst, liczbę typu `float` oraz listę i długość tej listy."
   ]
  },
  {
   "cell_type": "code",
   "execution_count": 40,
   "metadata": {},
   "outputs": [
    {
     "name": "stdout",
     "output_type": "stream",
     "text": [
      "Janek, wiek: 2.5, zna 3 słowa: ['mama', 'tata', 'ja']\n"
     ]
    }
   ],
   "source": [
    "name = 'Janek'\n",
    "age = 2.5\n",
    "words = ['mama', 'tata', 'ja']\n",
    "print(f'{name}, wiek: {age}, zna {len(words)} słowa: {words}')"
   ]
  }
 ],
 "metadata": {
  "kernelspec": {
   "display_name": "Python 3",
   "language": "python",
   "name": "python3"
  },
  "language_info": {
   "codemirror_mode": {
    "name": "ipython",
    "version": 3
   },
   "file_extension": ".py",
   "mimetype": "text/x-python",
   "name": "python",
   "nbconvert_exporter": "python",
   "pygments_lexer": "ipython3",
   "version": "3.8.5"
  }
 },
 "nbformat": 4,
 "nbformat_minor": 4
}
