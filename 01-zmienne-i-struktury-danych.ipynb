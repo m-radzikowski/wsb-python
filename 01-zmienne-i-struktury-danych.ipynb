{
 "cells": [
  {
   "cell_type": "markdown",
   "metadata": {},
   "source": [
    "# Python - zmienne i struktury danych"
   ]
  },
  {
   "cell_type": "markdown",
   "metadata": {},
   "source": [
    "## Hello World\n",
    "\n",
    "Tradycyjny pierwszy \"program\" w nowym języku - wypisz na ekran \"Hello World\"\n",
    "\n",
    "Do wypisywania wartości na standardowe wyjście - w tym przypadku ekran - służy **funkcja `print()`**, przyjmująca jako argument dowolny tekst. Tekst deklarujemy w cudzysłowach (`\"`) bądź apostrofach (`'`)."
   ]
  },
  {
   "cell_type": "code",
   "execution_count": null,
   "metadata": {},
   "outputs": [],
   "source": []
  },
  {
   "cell_type": "markdown",
   "metadata": {},
   "source": [
    "## Zmienne i obliczenia\n",
    "\n",
    "Stwórz zmienną `a` o wartości 3 oraz zmienną `b` o wartości 4.\n",
    "\n",
    "Następnie oblicz i podaj wynik:\n",
    "\n",
    "- dodawania\n",
    "- odejmowania\n",
    "- dzielenia\n",
    "- mnożenia\n",
    "- potęgowania\n",
    "- reszty z dzielenia"
   ]
  },
  {
   "cell_type": "code",
   "execution_count": null,
   "metadata": {},
   "outputs": [],
   "source": []
  },
  {
   "cell_type": "markdown",
   "metadata": {},
   "source": [
    "Powiększ wartość zmiennej `b` o 3"
   ]
  },
  {
   "cell_type": "code",
   "execution_count": null,
   "metadata": {},
   "outputs": [],
   "source": []
  },
  {
   "cell_type": "markdown",
   "metadata": {},
   "source": [
    "## Podstawowe typy zmiennych\n",
    "\n",
    "Stwórz zmienne zawierające:\n",
    "\n",
    "- liczbę całkowitą\n",
    "- liczbę z częścią dziesiętną\n",
    "- tekst\n",
    "- wartości logiczne \"prawda\" (`True`) i \"fałsz\" (`False`)\n",
    "\n",
    "Sprawdź ich typy za pomocą funkcji `type()`. Spróbuj dodać różne pary zmiennych do siebie i sprawdź wynikowe typy."
   ]
  },
  {
   "cell_type": "code",
   "execution_count": null,
   "metadata": {},
   "outputs": [],
   "source": []
  },
  {
   "cell_type": "markdown",
   "metadata": {},
   "source": [
    "## Nadpisywanie zmiennych\n",
    "\n",
    "Typ wartości zmiennej jest automatycznie wykrywany przez Pythona (\"type inference\") i nie wymaga ręcznej deklaracji.\n",
    "\n",
    "**Typ przypisany jest do wartości**, nie do zmiennej. Oznacza to, że gdy \"nadpisujemy\" zmienną - ponownie deklarujemy, zmieniając jej wartość - nie musi być to wartość tego samego typu."
   ]
  },
  {
   "cell_type": "markdown",
   "metadata": {},
   "source": [
    "#### Zadanie\n",
    "\n",
    "Zadeklaruj zmienną i przypisz jej wartość `3`, następnie przypisz tej zmiennej wynik mnożenia wartości x 2.5."
   ]
  },
  {
   "cell_type": "code",
   "execution_count": null,
   "metadata": {},
   "outputs": [],
   "source": []
  },
  {
   "cell_type": "markdown",
   "metadata": {},
   "source": [
    "## Lista - deklaracja i operacje\n",
    "\n",
    "Lista to kolekcja danych, mogąca przechowywać dowolne elementy. Elementy listy nie muszą być tego samego typu.\n",
    "\n",
    "Listę można modyfikować, dodając, usuwając oraz modyfikując jej elementy.\n",
    "\n",
    "Lista przechowuje elementy w określonej kolejności. Tak jak w większości języków programowania, numeracja elementów listy zaczyna się od 0.\n",
    "\n",
    "Listę deklarujemy poprzez podanie elementów po przecinkach w nawiasach kwadratowych (`[]`).\n",
    "\n",
    "#### Zadanie\n",
    "\n",
    "Stwórz listę składającą się z dowolnych czterech liczb, a następnie:\n",
    "\n",
    "- wypisz elementy spod indeksów: 0, 1, 3, -1\n",
    "- wypisz element spod indeksu 4\n",
    "- wypisz elementy od indeksu 1 do 3 włącznie\n",
    "- zmień wartość elementu pod indeksem 2\n",
    "- dodaj nowy element na końcu listy (`append()`)\n",
    "- usuń wybraną liczbę z tablicy (`remove()`)\n",
    "- dodaj do tablicy drugą tablicę: `[\"ala\", \"ma\", \"kota\"]`"
   ]
  },
  {
   "cell_type": "code",
   "execution_count": null,
   "metadata": {},
   "outputs": [],
   "source": []
  },
  {
   "cell_type": "markdown",
   "metadata": {},
   "source": [
    "## Lista - funkcje\n",
    "\n",
    "Sama lista nie ma wielu metod możliwych do wywołania. Jednak w Pythonie oraz bibliotekach istnieje wiele funkcji, które przyjmują listę jako argument. Najprostszymi przykładami są funkcje agregujące.\n",
    "\n",
    "#### Zadanie\n",
    "\n",
    "Stwórz nową listę zawierającą kilka liczb i podaj:\n",
    "\n",
    "- długość listy\n",
    "- ich sumę\n",
    "- największą i najmniejszą z nich"
   ]
  },
  {
   "cell_type": "code",
   "execution_count": null,
   "metadata": {},
   "outputs": [],
   "source": []
  },
  {
   "cell_type": "markdown",
   "metadata": {},
   "source": [
    "## Tuple\n",
    "\n",
    "###### Krotka\n",
    "\n",
    "\"Tuple\" to **niemutowalna** kolekcja elementów. Może, podobnie jak lista, posiadać dowolne elementy. Definiuje się ją poprzez nawiasy okrągłe (`()`),\n",
    "ale dostęp do wartości następuje tak samo jak w listach.\n",
    "\n",
    "| Lista                                                     | Tuple                                                                   |\n",
    "|-----------------------------------------------------------|-------------------------------------------------------------------------|\n",
    "| Mutowalna                                                 | Niemutowalna                                                            |\n",
    "| Zazwyczaj zawiera elementy tego samego lub podobnego typu | Zazwyczaj zawiera różne elementy                                        |\n",
    "| Służy przekazywaniu kolekcji jednorodnych argumentów      | Służy przekazywaniu kolekcji różnorodnych parametrów pomiędzy funkcjami |\n",
    "\n",
    "#### Zadanie\n",
    "\n",
    "Stwórz tuple zawierającą kilka elementów, wypisz pierwszy i ostatni."
   ]
  },
  {
   "cell_type": "code",
   "execution_count": null,
   "metadata": {},
   "outputs": [],
   "source": []
  },
  {
   "cell_type": "markdown",
   "metadata": {},
   "source": [
    "## Dictionary\n",
    "\n",
    "###### Słownik\n",
    "\n",
    "Dictionary, w innych językach częściej \"mapa\", to kolekcja par **klucz: wartość**.\n",
    "\n",
    "Klucz musi być **niemutowalnego typu** - np. liczba, string lub tuple (jeśli zawiera tylko niemutowalne elementy).\n",
    "Klucze w danej kolekcji nie mogą się powtarzać.\n",
    "\n",
    "Wartość przypisana do klucza może być dowolna.\n",
    "\n",
    "Dictionary tworzony jest poprzez podanie par klucz:wartość w nawiasach klamrowych (`{}`).\n",
    "\n",
    "#### Zadanie\n",
    "\n",
    "Stwórz dictionary zawierający nazwy województw i liczbę mieszkańców:\n",
    "\n",
    "- mazowieckie - 5349114\n",
    "- śląskie - 4570849\n",
    "- wielkopolskie - 3475323\n",
    "\n",
    "Następnie:\n",
    "\n",
    "- wypisz ilość mieszkańców województwa mazowieckiego\n",
    "- wypisz same nazwy województw (`keys()`)\n",
    "- wypisz same ilości mieszkańców województw (`values()`)\n",
    "- podaj sumaryczną ilość mieszkańców województw\n",
    "- dodaj województwo pomorskie (2307710 mieszkańców)\n",
    "- usuń województwo śląskie"
   ]
  },
  {
   "cell_type": "code",
   "execution_count": null,
   "metadata": {},
   "outputs": [],
   "source": []
  },
  {
   "cell_type": "markdown",
   "metadata": {},
   "source": [
    "## String - funkcje i formatowanie\n",
    "\n",
    "Typ tekstowy (`str`) w wielu przypadkach zachowuje się jak lista znaków. Można, tak samo jak z listy, pobrać długość funkcją `len()` albo pojedyncze znaki poprzez indeks w nawiasach kwadratowych.\n",
    "\n",
    "#### Zadanie\n",
    "\n",
    "Stwórz zmienną z tekstem. Wypisz:\n",
    "\n",
    "- długość tekstu\n",
    "- pierwszą i ostatnią literę\n",
    "- pierwsze 5 liter"
   ]
  },
  {
   "cell_type": "code",
   "execution_count": null,
   "metadata": {},
   "outputs": [],
   "source": []
  },
  {
   "cell_type": "markdown",
   "metadata": {},
   "source": [
    "Wypisywanie tekstu często wymaga umieszczenia w nim wartości zmiennych różnego typu (`str`, `int`, `bool`, itd.). Zmienne typu `str` można łączyć ze sobą znakiem `+`. Aby do tekstu \"dołączyć\" wartość jakiejś innej zmiennej, należy skonwertować ją na tekst metodą `str()`.\n",
    "\n",
    "```python\n",
    "name = 'Janek'\n",
    "age = 18\n",
    "print(name + ' ma ' + str(age) + ' lat')\n",
    "```\n",
    "\n",
    "Jednak lepszym sposobem budowania tekstu jest użycie specjalnej składni formatowania \"f-string\". Przed początkowym apostrofem/cudzysłowem dodajemy `f`, a zmienne (i wyrażenia) umieszczamy w tekście w nawiasach klamrowych (`{}`). Zmienne są automatycznie konwertowane na tekst. Daje to czytelniejszy kod.\n",
    "\n",
    "```python\n",
    "name = 'Janek'\n",
    "age = 18\n",
    "print(f'{name} ma {age} lat')\n",
    "```\n",
    "\n",
    "#### Zadanie\n",
    "\n",
    "Wypisz tekst umieszczając w nim zmienne zawierające tekst, liczbę typu `float` oraz listę i długość tej listy."
   ]
  },
  {
   "cell_type": "code",
   "execution_count": null,
   "metadata": {},
   "outputs": [],
   "source": []
  }
 ],
 "metadata": {
  "kernelspec": {
   "display_name": "Python 3",
   "language": "python",
   "name": "python3"
  },
  "language_info": {
   "codemirror_mode": {
    "name": "ipython",
    "version": 3
   },
   "file_extension": ".py",
   "mimetype": "text/x-python",
   "name": "python",
   "nbconvert_exporter": "python",
   "pygments_lexer": "ipython3",
   "version": "3.8.5"
  }
 },
 "nbformat": 4,
 "nbformat_minor": 4
}
