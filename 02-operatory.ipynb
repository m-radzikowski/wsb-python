{
 "cells": [
  {
   "cell_type": "markdown",
   "metadata": {},
   "source": [
    "# Python - operatory"
   ]
  },
  {
   "cell_type": "markdown",
   "metadata": {},
   "source": [
    "## Operatory porównania\n",
    "\n",
    "Operatory porównania porównują wartości po obu stronach i zwracają wartość logiczną - **True** lub **False**.\n",
    "\n",
    "#### Zadanie\n",
    "\n",
    "Stwórz zmienną `x` o wartości 2 i porównaj ją z różnymi innymi wartościami, by sprawdzić czy są:\n",
    "\n",
    "- równe (`==`)\n",
    "- mniejsze (`<`)\n",
    "- większe (`>`)\n",
    "- różne (`!=`)"
   ]
  },
  {
   "cell_type": "code",
   "execution_count": null,
   "metadata": {},
   "outputs": [],
   "source": []
  },
  {
   "cell_type": "markdown",
   "metadata": {},
   "source": [
    "## Operatory logiczne\n",
    "\n",
    "Operatory logiczne działają na wartościach logicznych, `True` i `False`, i w wyniku także zwracają wartość logiczną.\n",
    "\n",
    "`x and y` - \"i\" - zwraca `True` jeśli zarówno `x` jak i `y` są `True`, we wszystkich innych przypadkach zwraca `False`\n",
    "\n",
    "`x or y` - \"lub\" - zwraca `True` jeśli `x` lub `y` jest `True` (bądź oba), zwraca `False` jeśli oba są `False`\n",
    "\n",
    "`not x` - negacja - zmienia wartość logiczną `x` na przeciwną\n",
    "\n",
    "#### Zadanie\n",
    "\n",
    "Sprawdź wynik operacji:\n",
    "\n",
    "- `and` i `or` dla wszystkich 4 możliwych kombinacji wartości `True` i `False`\n",
    "- `not` dla wszystkich 2 możliwych wartości (`True` i `False`)"
   ]
  },
  {
   "cell_type": "code",
   "execution_count": null,
   "metadata": {},
   "outputs": [],
   "source": []
  },
  {
   "cell_type": "markdown",
   "metadata": {},
   "source": [
    "## Operatory przynależności\n",
    "\n",
    "Operator `in` zwraca informację, czy dany element znajduje się w kolekcji. Użycie: `x in y`, gdzie `y` może być typu m.in. list, tuple lub dictionary.\n",
    "\n",
    "Odwrotnością jest operator `not in`, który zwraca `True` jeśli element nie znajduje się w kolekcji. `x not in y` to zalecana, czytelniejsza konstrukcja, niż dająca ten sam wynik `not x in y`.\n",
    "\n",
    "#### Zadanie\n",
    "\n",
    "Stwórz proste kolekcje typu list i dictionary. W każdej z nich sprawdź wynik operatora `in` dla istniejące i nieistniejącego elementu."
   ]
  },
  {
   "cell_type": "code",
   "execution_count": null,
   "metadata": {},
   "outputs": [],
   "source": []
  }
 ],
 "metadata": {
  "kernelspec": {
   "display_name": "Python 3",
   "language": "python",
   "name": "python3"
  },
  "language_info": {
   "codemirror_mode": {
    "name": "ipython",
    "version": 3
   },
   "file_extension": ".py",
   "mimetype": "text/x-python",
   "name": "python",
   "nbconvert_exporter": "python",
   "pygments_lexer": "ipython3",
   "version": "3.8.5"
  }
 },
 "nbformat": 4,
 "nbformat_minor": 4
}
