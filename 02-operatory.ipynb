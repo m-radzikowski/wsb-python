{
 "cells": [
  {
   "cell_type": "markdown",
   "metadata": {},
   "source": [
    "# Python - operatory"
   ]
  },
  {
   "cell_type": "markdown",
   "metadata": {},
   "source": [
    "## Operatory porównania\n",
    "\n",
    "Operatory porównania porównują wartości po obu stronach i zwracają wartość logiczną - **True** lub **False**.\n",
    "\n",
    "#### Zadanie\n",
    "\n",
    "Stwórz zmienną `x` o wartości 2 i porównaj ją z różnymi innymi wartościami, by sprawdzić czy są:\n",
    "\n",
    "- równe (`==`)\n",
    "- mniejsze (`<`)\n",
    "- większe (`>`)\n",
    "- różne (`!=`)"
   ]
  },
  {
   "cell_type": "code",
   "execution_count": 1,
   "metadata": {},
   "outputs": [],
   "source": [
    "x = 2"
   ]
  },
  {
   "cell_type": "code",
   "execution_count": 14,
   "metadata": {},
   "outputs": [
    {
     "data": {
      "text/plain": [
       "True"
      ]
     },
     "execution_count": 14,
     "metadata": {},
     "output_type": "execute_result"
    }
   ],
   "source": [
    "x == 2"
   ]
  },
  {
   "cell_type": "code",
   "execution_count": 15,
   "metadata": {},
   "outputs": [
    {
     "data": {
      "text/plain": [
       "False"
      ]
     },
     "execution_count": 15,
     "metadata": {},
     "output_type": "execute_result"
    }
   ],
   "source": [
    "x == 3"
   ]
  },
  {
   "cell_type": "code",
   "execution_count": 16,
   "metadata": {},
   "outputs": [
    {
     "data": {
      "text/plain": [
       "True"
      ]
     },
     "execution_count": 16,
     "metadata": {},
     "output_type": "execute_result"
    }
   ],
   "source": [
    "x != 3"
   ]
  },
  {
   "cell_type": "code",
   "execution_count": 17,
   "metadata": {},
   "outputs": [
    {
     "data": {
      "text/plain": [
       "True"
      ]
     },
     "execution_count": 17,
     "metadata": {},
     "output_type": "execute_result"
    }
   ],
   "source": [
    "x > 1"
   ]
  },
  {
   "cell_type": "markdown",
   "metadata": {},
   "source": [
    "## Operatory logiczne\n",
    "\n",
    "Operatory logiczne działają na wartościach logicznych, `True` i `False`, i w wyniku także zwracają wartość logiczną.\n",
    "\n",
    "`x and y` - \"i\" - zwraca `True` jeśli zarówno `x` jak i `y` są `True`, we wszystkich innych przypadkach zwraca `False`\n",
    "\n",
    "`x or y` - \"lub\" - zwraca `True` jeśli `x` lub `y` jest `True` (bądź oba), zwraca `False` jeśli oba są `False`\n",
    "\n",
    "`not x` - negacja - zmienia wartość logiczną `x` na przeciwną\n",
    "\n",
    "#### Zadanie\n",
    "\n",
    "Sprawdź wynik operacji:\n",
    "\n",
    "- `and` i `or` dla wszystkich 4 możliwych kombinacji wartości `x` i `y`\n",
    "- `not` dla wszystkich 2 możliwych wartości `x`"
   ]
  },
  {
   "cell_type": "code",
   "execution_count": 4,
   "metadata": {},
   "outputs": [
    {
     "name": "stdout",
     "output_type": "stream",
     "text": [
      "True\n",
      "False\n",
      "False\n",
      "False\n"
     ]
    }
   ],
   "source": [
    "print(True and True)\n",
    "print(True and False)\n",
    "print(False and True)\n",
    "print(False and False)"
   ]
  },
  {
   "cell_type": "code",
   "execution_count": 6,
   "metadata": {},
   "outputs": [
    {
     "name": "stdout",
     "output_type": "stream",
     "text": [
      "True\n",
      "True\n",
      "True\n",
      "False\n"
     ]
    }
   ],
   "source": [
    "print(True or True)\n",
    "print(True or False)\n",
    "print(False or True)\n",
    "print(False or False)"
   ]
  },
  {
   "cell_type": "code",
   "execution_count": 7,
   "metadata": {},
   "outputs": [
    {
     "name": "stdout",
     "output_type": "stream",
     "text": [
      "False\n",
      "True\n"
     ]
    }
   ],
   "source": [
    "print(not True)\n",
    "print(not False)"
   ]
  },
  {
   "cell_type": "markdown",
   "metadata": {},
   "source": [
    "## Operatory przynależności\n",
    "\n",
    "Operator `in` zwraca informację, czy dany element znajduje się w kolekcji. Użycie: `x in y`, gdzie `y` może być typu m.in. list, tuple lub dictionary.\n",
    "\n",
    "Odwrotnością jest operator `not in`, który zwraca `True` jeśli element nie znajduje się w kolekcji. `x not in y` to zalecana, czytelniejsza konstrukcja, niż dająca ten sam wynik `not x in y`.\n",
    "\n",
    "#### Zadanie\n",
    "\n",
    "Stwórz proste kolekcje typu list i dictionary. W każdej z nich sprawdź wynik operatora `in` dla istniejące i nieistniejącego elementu."
   ]
  },
  {
   "cell_type": "code",
   "execution_count": 20,
   "metadata": {},
   "outputs": [
    {
     "name": "stdout",
     "output_type": "stream",
     "text": [
      "True\n",
      "False\n"
     ]
    }
   ],
   "source": [
    "l = [1,2,3,4,5]\n",
    "print(3 in l)\n",
    "print(\"aa\" in l)"
   ]
  },
  {
   "cell_type": "code",
   "execution_count": 21,
   "metadata": {},
   "outputs": [
    {
     "name": "stdout",
     "output_type": "stream",
     "text": [
      "True\n",
      "False\n"
     ]
    }
   ],
   "source": [
    "d = {'aa': 2, 'zz': 9}\n",
    "print('aa' in d)\n",
    "print('qq' in d)"
   ]
  }
 ],
 "metadata": {
  "kernelspec": {
   "display_name": "Python 3",
   "language": "python",
   "name": "python3"
  },
  "language_info": {
   "codemirror_mode": {
    "name": "ipython",
    "version": 3
   },
   "file_extension": ".py",
   "mimetype": "text/x-python",
   "name": "python",
   "nbconvert_exporter": "python",
   "pygments_lexer": "ipython3",
   "version": "3.8.5"
  }
 },
 "nbformat": 4,
 "nbformat_minor": 4
}
