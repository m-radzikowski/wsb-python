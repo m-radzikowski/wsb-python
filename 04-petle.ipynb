{
 "cells": [
  {
   "cell_type": "markdown",
   "metadata": {},
   "source": [
    "# Python - pętle"
   ]
  },
  {
   "cell_type": "markdown",
   "metadata": {},
   "source": [
    "Kolejny sposób sterowania przebiegiem programu to użycie pętli.\n",
    "\n",
    "Pętla to blok kodu, który zostanie wykonany zero lub więcej razy.\n",
    "\n",
    "## Pętla for\n",
    "\n",
    "Najprostsza i najczęściej używana jest pętla `for`.\n",
    "\n",
    "W Pythonie iteracja w pętli `for` odbywa się po elementach podanej listy. W każdym kolejnym wykonaniu bloku kodu (iteracji) do zmiennej przypisany jest kolejny element listy.\n",
    "\n",
    "```python\n",
    "animals = ['cat', 'dog', 'horse']\n",
    "for x in animals:\n",
    "    print('Animal: ' + x)\n",
    "```\n",
    "\n",
    "#### Zadanie\n",
    "\n",
    "Stwórz listę imion. Wypisz imiona i ich długość (funkcja `len()`, ta sama co do pobrania długości listy)."
   ]
  },
  {
   "cell_type": "code",
   "execution_count": 9,
   "metadata": {},
   "outputs": [
    {
     "name": "stdout",
     "output_type": "stream",
     "text": [
      "Kasia: 5\n",
      "Asia: 4\n",
      "Tomek: 5\n",
      "Janusz: 6\n"
     ]
    }
   ],
   "source": [
    "names = [\"Kasia\", \"Asia\", \"Tomek\", \"Janusz\"]\n",
    "for name in names:\n",
    "    print(f'{name}: {len(name)}')"
   ]
  },
  {
   "cell_type": "markdown",
   "metadata": {},
   "source": [
    "## Funkcja range\n",
    "\n",
    "Aby wykonać pętlę określoną ilość razy używa się funkcji `range()`, zwracającej sekwencję liczb w określonym zakresie.\n",
    "\n",
    "Jeśli podamy jeden argument funkcja zwróci liczby od 0 do podanej wartości. Jeżeli podamy dwa argumenty, pierwszy określi wartość początkową, a drugi końcową.\n",
    "\n",
    "Uwaga! Podana wartość końcowa (niezależnie, czy podajemy jeden czy dwa argumenty), jest \"eksluzywna\", nie będzie już zwrócona.\n",
    "\n",
    "#### Zadanie\n",
    "\n",
    "Wypisz w pętli:\n",
    "\n",
    "- liczby od 0 do 5\n",
    "- liczby od 10 do 19"
   ]
  },
  {
   "cell_type": "code",
   "execution_count": 12,
   "metadata": {},
   "outputs": [
    {
     "name": "stdout",
     "output_type": "stream",
     "text": [
      "0\n",
      "1\n",
      "2\n",
      "3\n",
      "4\n",
      "5\n",
      "10\n",
      "11\n",
      "12\n",
      "13\n",
      "14\n",
      "15\n",
      "16\n",
      "17\n",
      "18\n",
      "19\n"
     ]
    }
   ],
   "source": [
    "for i in range(6):\n",
    "    print(i)\n",
    "for i in range(10, 20):\n",
    "    print(i)"
   ]
  },
  {
   "cell_type": "markdown",
   "metadata": {},
   "source": [
    "#### Zadanie\n",
    "\n",
    "Wypisz stworzoną wcześniej listę imion, wypisując indeks (pozycję) w liście i imię."
   ]
  },
  {
   "cell_type": "code",
   "execution_count": 14,
   "metadata": {},
   "outputs": [
    {
     "name": "stdout",
     "output_type": "stream",
     "text": [
      "0: Kasia\n",
      "1: Asia\n",
      "2: Tomek\n",
      "3: Janusz\n"
     ]
    }
   ],
   "source": [
    "for i in range(len(names)):\n",
    "    print(f'{i}: {names[i]}')"
   ]
  },
  {
   "cell_type": "markdown",
   "metadata": {},
   "source": [
    "#### Zadanie\n",
    "\n",
    "Wypisz w pętli wszystkie nazwy województw z poniższej kolekcji dictionary."
   ]
  },
  {
   "cell_type": "code",
   "execution_count": 15,
   "metadata": {},
   "outputs": [],
   "source": [
    "regions = {\n",
    "    \"mazowieckie\": 5349114,\n",
    "    \"śląskie\": 4570849,\n",
    "    \"wielkopolskie\": 3475323,\n",
    "    \"pomorskie\": 2307710,\n",
    "}"
   ]
  },
  {
   "cell_type": "code",
   "execution_count": 16,
   "metadata": {},
   "outputs": [
    {
     "name": "stdout",
     "output_type": "stream",
     "text": [
      "mazowieckie\n",
      "śląskie\n",
      "wielkopolskie\n",
      "pomorskie\n"
     ]
    }
   ],
   "source": [
    "for region in regions.keys():\n",
    "    print(region)"
   ]
  }
 ],
 "metadata": {
  "kernelspec": {
   "display_name": "Python 3",
   "language": "python",
   "name": "python3"
  },
  "language_info": {
   "codemirror_mode": {
    "name": "ipython",
    "version": 3
   },
   "file_extension": ".py",
   "mimetype": "text/x-python",
   "name": "python",
   "nbconvert_exporter": "python",
   "pygments_lexer": "ipython3",
   "version": "3.8.5"
  }
 },
 "nbformat": 4,
 "nbformat_minor": 4
}
