{
 "cells": [
  {
   "cell_type": "markdown",
   "metadata": {},
   "source": [
    "# NumPy\n",
    "\n",
    "Podstawowa biblioteka naukowo-obliczeniowa. Główny obiekt to `ndarray` - \"n-dimensional array\".\n",
    "\n",
    "#### Zadanie 1\n",
    "\n",
    "Stwórz dwuwymiarową tablicę 4x3 `a` wypełnioną zerami.\n",
    "\n",
    "Stwórz dwuwymiarową tablicę 4x3 `b` wypełnioną liczbami od 11 do 22.\n",
    "\n",
    "Jakie są typy danych w obu tych tablicach?\n",
    "\n",
    "W tablicy `a`:\n",
    "\n",
    "- przypisz wartości pierwszej kolumny tablicy `b` do komórek pierwszej kolumny\n",
    "- przypisz wartość 0.5 do ostatnich dwóch komórek środkowej kolumny\n",
    "- przypisz wartość 1 do komórek ostatniej kolumny\n",
    "\n",
    "Oczekiwany końcowy wygląd tablicy `a`:\n",
    "\n",
    "```\n",
    "[[ 11 0   1 ]\n",
    " [ 14 0   1 ]\n",
    " [ 17 0.5 1 ]\n",
    " [ 20 0.5 1 ]]\n",
    "```"
   ]
  },
  {
   "cell_type": "code",
   "execution_count": 1,
   "metadata": {},
   "outputs": [],
   "source": [
    "import numpy as np"
   ]
  },
  {
   "cell_type": "code",
   "execution_count": 2,
   "metadata": {},
   "outputs": [
    {
     "name": "stdout",
     "output_type": "stream",
     "text": [
      "[[0. 0. 0.]\n",
      " [0. 0. 0.]\n",
      " [0. 0. 0.]\n",
      " [0. 0. 0.]]\n",
      "[[11 12 13]\n",
      " [14 15 16]\n",
      " [17 18 19]\n",
      " [20 21 22]]\n"
     ]
    }
   ],
   "source": [
    "a = np.zeros(12).reshape(4, 3)\n",
    "b = np.arange(11, 23).reshape(4, 3)\n",
    "print(a)\n",
    "print(b)"
   ]
  },
  {
   "cell_type": "code",
   "execution_count": 3,
   "metadata": {},
   "outputs": [
    {
     "data": {
      "text/plain": [
       "(dtype('float64'), dtype('int64'))"
      ]
     },
     "execution_count": 3,
     "metadata": {},
     "output_type": "execute_result"
    }
   ],
   "source": [
    "a.dtype, b.dtype"
   ]
  },
  {
   "cell_type": "code",
   "execution_count": 4,
   "metadata": {},
   "outputs": [
    {
     "name": "stdout",
     "output_type": "stream",
     "text": [
      "[[11.   0.   1. ]\n",
      " [14.   0.   1. ]\n",
      " [17.   0.5  1. ]\n",
      " [20.   0.5  1. ]]\n"
     ]
    }
   ],
   "source": [
    "a[:, 0] = b[:, 0]\n",
    "a[2:, 1] = 0.5\n",
    "a[:, 2] = 1\n",
    "print(a)"
   ]
  },
  {
   "cell_type": "markdown",
   "metadata": {},
   "source": [
    "## Operacje na tablicach - NumPy Universal Functions\n",
    "\n",
    "Porównanie czasu obliczenia liczb odwrotnych do podanych na dużej ilości elementów."
   ]
  },
  {
   "cell_type": "code",
   "execution_count": 5,
   "metadata": {},
   "outputs": [
    {
     "name": "stdout",
     "output_type": "stream",
     "text": [
      "[6 1 4 4 8]\n",
      "[0.16666666666666666, 1.0, 0.25, 0.25, 0.125]\n"
     ]
    }
   ],
   "source": [
    "import numpy as np\n",
    "np.random.seed(0)\n",
    "\n",
    "def compute_reciprocals(values):\n",
    "    output = []\n",
    "    for i in range(len(values)):\n",
    "        output.append(1.0 / values[i])\n",
    "    return output\n",
    "\n",
    "values = np.random.randint(1, 10, size=5)\n",
    "print(values)\n",
    "print(compute_reciprocals(values))"
   ]
  },
  {
   "cell_type": "code",
   "execution_count": 6,
   "metadata": {},
   "outputs": [
    {
     "name": "stdout",
     "output_type": "stream",
     "text": [
      "[10 84 22 37 88 71 89 89 13 59]\n"
     ]
    }
   ],
   "source": [
    "big_array = np.random.randint(1, 100, size=1000000)\n",
    "print(big_array[0:10])"
   ]
  },
  {
   "cell_type": "code",
   "execution_count": 7,
   "metadata": {},
   "outputs": [
    {
     "name": "stdout",
     "output_type": "stream",
     "text": [
      "[0.1, 0.011904761904761904, 0.045454545454545456, 0.02702702702702703, 0.011363636363636364, 0.014084507042253521, 0.011235955056179775, 0.011235955056179775, 0.07692307692307693, 0.01694915254237288]\n",
      "1.57 s ± 44.2 ms per loop (mean ± std. dev. of 7 runs, 1 loop each)\n"
     ]
    }
   ],
   "source": [
    "print(compute_reciprocals(big_array)[0:10])\n",
    "%timeit compute_reciprocals(big_array)"
   ]
  },
  {
   "cell_type": "code",
   "execution_count": 8,
   "metadata": {},
   "outputs": [
    {
     "name": "stdout",
     "output_type": "stream",
     "text": [
      "[0.1        0.01190476 0.04545455 0.02702703 0.01136364 0.01408451\n",
      " 0.01123596 0.01123596 0.07692308 0.01694915]\n",
      "1.06 ms ± 59 µs per loop (mean ± std. dev. of 7 runs, 1000 loops each)\n"
     ]
    }
   ],
   "source": [
    "print((1.0 / big_array)[0:10])\n",
    "%timeit (1.0 / big_array)"
   ]
  },
  {
   "cell_type": "markdown",
   "metadata": {},
   "source": [
    "#### Zadanie 2\n",
    "\n",
    "Tablica `t` zawiera kolejne rekordy opisujące trójkąty prostokątne, gdzie kolejne kolumny to:\n",
    "\n",
    "0. długość boku a\n",
    "1. długość boku b\n",
    "2. długość boku c - przeciwprostokątnej\n",
    "3. suma długości boków\n",
    "\n",
    "```\n",
    "  |\\\n",
    "  | \\\n",
    "a |  \\ c\n",
    "  |   \\\n",
    "  |____\\\n",
    "     b\n",
    "```\n",
    "\n",
    "- uzupełnij kolumny 2 i 3\n",
    "- podaj sumaryczną długość boków wszystkich trójkątów\n",
    "\n",
    "Długość boku c można obliczyć z Twierdzenia Pitagorasa:\n",
    "\n",
    "$$a^2+b^2=c^2$$\n",
    "\n",
    "Do obliczenia pierwiastka kwadratowego służy funkcja `np.sqrt()`."
   ]
  },
  {
   "cell_type": "code",
   "execution_count": 9,
   "metadata": {},
   "outputs": [
    {
     "data": {
      "text/plain": [
       "array([[ 3,  4,  0,  0],\n",
       "       [ 5, 12,  0,  0],\n",
       "       [ 8, 15,  0,  0],\n",
       "       [ 7, 24,  0,  0],\n",
       "       [ 9, 40,  0,  0]])"
      ]
     },
     "execution_count": 9,
     "metadata": {},
     "output_type": "execute_result"
    }
   ],
   "source": [
    "t = np.array([\n",
    "    [3, 4, 0, 0],\n",
    "    [5, 12, 0, 0],\n",
    "    [8, 15, 0, 0],\n",
    "    [7, 24, 0, 0],\n",
    "    [9, 40, 0, 0],\n",
    "])\n",
    "t"
   ]
  },
  {
   "cell_type": "code",
   "execution_count": 10,
   "metadata": {},
   "outputs": [
    {
     "data": {
      "text/plain": [
       "array([[ 3,  4,  5,  0],\n",
       "       [ 5, 12, 13,  0],\n",
       "       [ 8, 15, 17,  0],\n",
       "       [ 7, 24, 25,  0],\n",
       "       [ 9, 40, 41,  0]])"
      ]
     },
     "execution_count": 10,
     "metadata": {},
     "output_type": "execute_result"
    }
   ],
   "source": [
    "t[:,2] = np.sqrt((t[:,0] ** 2) + (t[:,1] ** 2))\n",
    "t"
   ]
  },
  {
   "cell_type": "code",
   "execution_count": 11,
   "metadata": {},
   "outputs": [
    {
     "data": {
      "text/plain": [
       "array([[ 3,  4,  5, 12],\n",
       "       [ 5, 12, 13, 30],\n",
       "       [ 8, 15, 17, 40],\n",
       "       [ 7, 24, 25, 56],\n",
       "       [ 9, 40, 41, 90]])"
      ]
     },
     "execution_count": 11,
     "metadata": {},
     "output_type": "execute_result"
    }
   ],
   "source": [
    "t[:,3] = np.sum(t[:,0:3], axis=1)\n",
    "t"
   ]
  },
  {
   "cell_type": "code",
   "execution_count": 12,
   "metadata": {},
   "outputs": [
    {
     "data": {
      "text/plain": [
       "228"
      ]
     },
     "execution_count": 12,
     "metadata": {},
     "output_type": "execute_result"
    }
   ],
   "source": [
    "np.sum(t[:, 3])"
   ]
  }
 ],
 "metadata": {
  "kernelspec": {
   "display_name": "Python 3",
   "language": "python",
   "name": "python3"
  },
  "language_info": {
   "codemirror_mode": {
    "name": "ipython",
    "version": 3
   },
   "file_extension": ".py",
   "mimetype": "text/x-python",
   "name": "python",
   "nbconvert_exporter": "python",
   "pygments_lexer": "ipython3",
   "version": "3.8.5"
  }
 },
 "nbformat": 4,
 "nbformat_minor": 4
}
