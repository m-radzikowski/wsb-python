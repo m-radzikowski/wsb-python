{
 "cells": [
  {
   "cell_type": "markdown",
   "metadata": {},
   "source": [
    "# matplotlib"
   ]
  },
  {
   "cell_type": "code",
   "execution_count": null,
   "metadata": {},
   "outputs": [],
   "source": [
    "import numpy as np\n",
    "import pandas as pd\n",
    "import matplotlib.pyplot as plt\n",
    "import seaborn as sns\n",
    "\n",
    "%matplotlib inline\n",
    "\n",
    "plt.style.use('seaborn-whitegrid')\n",
    "plt.rcParams['figure.figsize'] = [12, 8]\n",
    "plt.rcParams.update({'font.size': 15})"
   ]
  },
  {
   "cell_type": "markdown",
   "metadata": {},
   "source": [
    "#### Zadanie 1\n",
    "\n",
    "Stwórz wykres liniowy przedstawiając następujące wartości:\n",
    "\n",
    "- f(1) = 2\n",
    "- f(2) = 3\n",
    "- f(3) = 1\n",
    "- f(4) = 2"
   ]
  },
  {
   "cell_type": "code",
   "execution_count": null,
   "metadata": {},
   "outputs": [],
   "source": []
  },
  {
   "cell_type": "markdown",
   "metadata": {},
   "source": [
    "#### Zadanie 2\n",
    "\n",
    "Zmienna `x` zawiera 1000 wygenerowanych równo rozłożonych wartości pomiędzy -10 a 10.\n",
    "\n",
    "Stwórz wykres przedstawiający wartości `f(x) = sin(x)` oraz `f(x) = cos(x)`. Sformatuj wykres:\n",
    "\n",
    "- widoczny zakres osi X powinien być od -15 do 15\n",
    "- widoczny zakres osi Y powinien być od -2 do 2\n",
    "- nadaj tytuł wykresu: \"Wykres sin i cos\"\n",
    "- podpisz osie X i Y, po prostu nazwami \"x\" i \"y\"\n",
    "- wyświetl legendę wykresu zawierającą nazwy serii (\"sin(x)\" oraz \"cos(x)\")\n",
    "- wykres `cos(x)` narysuj linią przerywaną"
   ]
  },
  {
   "cell_type": "code",
   "execution_count": null,
   "metadata": {},
   "outputs": [],
   "source": [
    "x = np.linspace(-10, 10, 100)"
   ]
  },
  {
   "cell_type": "code",
   "execution_count": null,
   "metadata": {},
   "outputs": [],
   "source": []
  },
  {
   "cell_type": "markdown",
   "metadata": {},
   "source": [
    "#### Zadanie 3\n",
    "\n",
    "Wczytaj dane przelotów."
   ]
  },
  {
   "cell_type": "code",
   "execution_count": null,
   "metadata": {},
   "outputs": [],
   "source": [
    "flights = pd.read_csv('data/flights.csv')\n",
    "flights = flights.drop(columns=['Unnamed: 0'])\n",
    "flights"
   ]
  },
  {
   "cell_type": "markdown",
   "metadata": {},
   "source": [
    "Przedstaw wykres rozrzutu (scatter plot) zależności opóźnienia wylotu (`dep_delay`) do opóźnienia przylotu (`arr_delay`). Podpisz wykres oraz osie.\n",
    "\n",
    "Dodaj linię `y=x` w zakresie wartości osi X. Linia ta przedstawia granicę wartości opóźnienia wylotu równą opóźnieniu przylotu.\n",
    "\n",
    "Podpowiedź 1: najmniejszą i największą wartość można uzyskać odpowiednio funkcjami `np.nanmin()` oraz `np.nanmax()`.\n",
    "\n",
    "Podpowiedź 2: aby uzyskać wykres `y=x` potrzebujemy wyłącznie dwóch punktów."
   ]
  },
  {
   "cell_type": "code",
   "execution_count": null,
   "metadata": {},
   "outputs": [],
   "source": []
  },
  {
   "cell_type": "markdown",
   "metadata": {},
   "source": [
    "#### Zadanie 4\n",
    "\n",
    "Przedstaw wykres bąbelkowy (bubble chart) zależności średniego opóźnienia przylotu od dystansu lotu:\n",
    "\n",
    "- zaokrąglij dystans do setek mil (`np.round(value, decimals=-2)`)\n",
    "- wielkość bąbelka uzależnij od ilości lotów\n",
    "- ustaw półprzezroczystość bąbelków (parametr `alpha=0.5`)\n",
    "- ogranicz wykres do obszarów o największej ilości danych\n",
    "\n",
    "Podpowiedź: dane muszą być zagregowane wg dystansu."
   ]
  },
  {
   "cell_type": "code",
   "execution_count": null,
   "metadata": {},
   "outputs": [],
   "source": []
  },
  {
   "cell_type": "markdown",
   "metadata": {},
   "source": [
    "#### Zadanie 5\n",
    "\n",
    "Zmodyfikuj wykres z zadania 4:\n",
    "\n",
    "- ogranicz dane do linii lotniczych zawartych w poniższym dictionary kolorów\n",
    "- wyświetl osobne bąbelki dla poszczególnych linii lotniczych i oznacz je kolorami\n",
    "\n",
    "W pandas wartości `Series` (jednej kolumny danych) można przekształcić na inne wg klucz -> wartość z Dictionary, używając funkcji `map()`."
   ]
  },
  {
   "cell_type": "code",
   "execution_count": null,
   "metadata": {},
   "outputs": [],
   "source": [
    "carrier_colors = {'UA': 'red', 'DL': 'blue', 'AA': 'green'}"
   ]
  },
  {
   "cell_type": "code",
   "execution_count": null,
   "metadata": {},
   "outputs": [],
   "source": []
  },
  {
   "cell_type": "markdown",
   "metadata": {},
   "source": [
    "#### Zadanie 6\n",
    "\n",
    "Utwórz wykres słupkowy przedstawiający ilość wylotów w kolejnych godzinach dnia (0-23)."
   ]
  },
  {
   "cell_type": "code",
   "execution_count": null,
   "metadata": {},
   "outputs": [],
   "source": []
  },
  {
   "cell_type": "markdown",
   "metadata": {},
   "source": [
    "#### Zadanie 7\n",
    "\n",
    "Przedstaw histogram wartości opóźnień przylotów i wylotów:\n",
    "\n",
    "- dobierz zakres oraz ilość kubełków\n",
    "- ustaw kolor wypełnienia (`facecolor`) i obramowania (`edgecolor`) oraz przezroczystość\n",
    "- podpisz osie i nadaj tytuł\n",
    "- wyświetl legendę\n",
    "- dobierz ograniczenie przedziału wyświetlanych wartości (`range`) oraz ilość kubełków\n",
    "- opcjonalnie - porównaj wyniki, jeśli odfiltrujesz wartości 0 (brak opóźnienia)"
   ]
  },
  {
   "cell_type": "code",
   "execution_count": null,
   "metadata": {},
   "outputs": [],
   "source": []
  },
  {
   "cell_type": "markdown",
   "metadata": {},
   "source": [
    "#### Zadanie 8\n",
    "\n",
    "Lista `top_carriers` zawiera kody 5 linii lotniczych z największą ilością lotów.\n",
    "\n",
    "Przedstaw rozkład opóźnień przylotów dla tych linii.\n",
    "\n",
    "Podpowiedź: zamiana wyników grupowania `DataFrame` na `dict` nazwa grupy -> wartości:\n",
    "\n",
    "```python\n",
    "groups = data.groupby('nazwa_kolumny')\n",
    "groups_dict = dict(list(groups))\n",
    "```"
   ]
  },
  {
   "cell_type": "code",
   "execution_count": null,
   "metadata": {},
   "outputs": [],
   "source": [
    "top_carriers = list(flights.groupby('carrier').size().sort_values(ascending=False).head(5).index)\n",
    "top_carriers"
   ]
  },
  {
   "cell_type": "code",
   "execution_count": null,
   "metadata": {},
   "outputs": [],
   "source": []
  }
 ],
 "metadata": {
  "kernelspec": {
   "display_name": "Python 3",
   "language": "python",
   "name": "python3"
  },
  "language_info": {
   "codemirror_mode": {
    "name": "ipython",
    "version": 3
   },
   "file_extension": ".py",
   "mimetype": "text/x-python",
   "name": "python",
   "nbconvert_exporter": "python",
   "pygments_lexer": "ipython3",
   "version": "3.8.5"
  }
 },
 "nbformat": 4,
 "nbformat_minor": 4
}
