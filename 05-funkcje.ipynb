{
 "cells": [
  {
   "cell_type": "markdown",
   "metadata": {},
   "source": [
    "# Python - funkcje"
   ]
  },
  {
   "cell_type": "markdown",
   "metadata": {},
   "source": [
    "Oprócz funkcji dostępnych w samym Pythonie, takich jak `len()`, i bibliotekach, można tworzyć je także samemu.\n",
    "\n",
    "Funkcja to zdefiniowany blok kodu, który możemy potem wielokrotnie wywołać. Dodatkowo funkcja może przyjmować argumenty, które będą zmiennymi przekazanymi do funkcji przy konkretnym wywołaniu.\n",
    "\n",
    "Funkcja może zwracać wartość, jako wynik swojego działania. Wiele wartości może zostać zwróconych jako `tuple`.\n",
    "\n",
    "Funkcje należy stosować:\n",
    "\n",
    "- zawsze gdy dany blok kodu musimy wywołać więcej niż raz, z różnych miejsc w programie, zmieniając tylko parametry (np. zmienną czy listę, na której wykonywany jest kod)\n",
    "- gdy zwiększy to porządek i czytelność kodu, poprzez zamknięcie kolejnych kroków programu w osobnych funkcjach\n",
    "\n",
    "Funkcję definiujemy słowem kluczowym `def`.\n",
    "\n",
    "Wynik możemy opcjonalnie zwrócić używając słowa kluczowego `return`.\n",
    "\n",
    "```python\n",
    "def my_sum_function(a, b):\n",
    "    return a + b\n",
    "```\n",
    "\n",
    "#### Zadanie\n",
    "\n",
    "Stwórz i wywołaj kilkukrotnie bezargumentową funkcję, która wypisze powitanie."
   ]
  },
  {
   "cell_type": "code",
   "execution_count": null,
   "metadata": {},
   "outputs": [],
   "source": []
  },
  {
   "cell_type": "markdown",
   "metadata": {},
   "source": [
    "#### Zadanie\n",
    "\n",
    "Stwórz funkcję, która przyjmie tekst oraz liczbę i wypisze tekst podaną ilość razy."
   ]
  },
  {
   "cell_type": "code",
   "execution_count": null,
   "metadata": {},
   "outputs": [],
   "source": []
  },
  {
   "cell_type": "markdown",
   "metadata": {},
   "source": [
    "#### Zadanie\n",
    "\n",
    "Stwórz funkcję, która przyjmuje wartości `a`, `b` i `c`, a następnie wylicza i zwraca deltę równania kwadratowego wg wzoru:\n",
    "\n",
    "$$\\Delta=b^2-4ac$$\n",
    "\n",
    "> Dla wartości `a=1`, `b=2`, `c=-3` wartość delty powinna wynieść 16."
   ]
  },
  {
   "cell_type": "code",
   "execution_count": null,
   "metadata": {},
   "outputs": [],
   "source": []
  },
  {
   "cell_type": "markdown",
   "metadata": {},
   "source": [
    "#### Zadanie\n",
    "\n",
    "Stwórz funkcję, która przyjmie listę liczb i zwróci ich ilość i sumę."
   ]
  },
  {
   "cell_type": "code",
   "execution_count": null,
   "metadata": {},
   "outputs": [],
   "source": []
  }
 ],
 "metadata": {
  "kernelspec": {
   "display_name": "Python 3",
   "language": "python",
   "name": "python3"
  },
  "language_info": {
   "codemirror_mode": {
    "name": "ipython",
    "version": 3
   },
   "file_extension": ".py",
   "mimetype": "text/x-python",
   "name": "python",
   "nbconvert_exporter": "python",
   "pygments_lexer": "ipython3",
   "version": "3.8.5"
  }
 },
 "nbformat": 4,
 "nbformat_minor": 4
}
