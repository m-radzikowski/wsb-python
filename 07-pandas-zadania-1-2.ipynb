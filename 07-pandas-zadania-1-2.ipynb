{
 "cells": [
  {
   "cell_type": "markdown",
   "metadata": {},
   "source": [
    "# pandas"
   ]
  },
  {
   "cell_type": "code",
   "execution_count": 1,
   "metadata": {},
   "outputs": [],
   "source": [
    "import numpy as np\n",
    "import pandas as pd"
   ]
  },
  {
   "cell_type": "markdown",
   "metadata": {},
   "source": [
    "#### Zadanie 1\n",
    "\n",
    "Lista `movies` zawiera najwyżej ocenione filmy w rankingu Filmweb, posortowane od najlepiej ocenionych. Każdy element to tuple, w którym znajduje się:\n",
    "\n",
    "0. tytuł\n",
    "1. rok\n",
    "2. średnia ocena\n",
    "3. reżyser\n",
    "4. budżet (USD)\n",
    "5. przychód (USD)\n",
    "\n",
    "Podaj:\n",
    "\n",
    "- ilość oraz tytuły filmów powstałych przed rokiem 2000 (ilość elementów `DataFrame` można uzyskać funkcją `len()`)\n",
    "- filmy ze średnią oceną powyżej 8.5 i budżetem poniżej 10 mln USD\n",
    "- 3 najlepsze filmy, których przychód był co najmniej 10-krotnie większy niż budżet"
   ]
  },
  {
   "cell_type": "code",
   "execution_count": 2,
   "metadata": {},
   "outputs": [],
   "source": [
    "movies = [\n",
    "    (\"Skazani na Shawshank\", 1994, 8.75, \"Frank Darabont\", 25_000_000, 59_841_469),\n",
    "    (\"Nietykalni\", 2011, 8.63, \"Olivier Nakache\", 9_500_000, 426_588_510),\n",
    "    (\"Zielona mila\", 1999, 8.61, \"Frank Darabont\", 60_000_000, 286_801_374),\n",
    "    (\"Ojciec chrzestny\", 1972, 8.59, \"Francis Ford Coppola\", 6_000_000, 245_066_411),\n",
    "    (\"Dwunastu gniewnych ludzi\", 1957, 8.54, \"Sidney Lumet\", 340_000, 2_000_000),\n",
    "    (\"Forrest Gump\", 1994, 8.52, \"Robert Zemeckis\", 55_000_000, 677_387_716),\n",
    "    (\"Lot nad kukułczym gniazdem\", 1975, 8.44, \"Miloš Forman\", 3_000_000, 108_981_275),\n",
    "    (\"Ojciec chrzestny II\", 1974, 8.38, \"Francis Ford Coppola\", 13_000_000, 193_000_000),\n",
    "    (\"Joker\", 2019, 8.36, \"Todd Phillips\", 55_000_000, 1_071_014_743),\n",
    "    (\"Lista Schindlera\", 1993, 8.33, \"Steven Spielberg\", 22_000_000, 322_139_355)\n",
    "]"
   ]
  },
  {
   "cell_type": "code",
   "execution_count": null,
   "metadata": {},
   "outputs": [],
   "source": []
  },
  {
   "cell_type": "markdown",
   "metadata": {},
   "source": [
    "#### Zadanie 2\n",
    "\n",
    "Lista `t` zawiera kolejne listy opisujące boki a i b trójkątów prostokątnych.\n",
    "\n",
    "```\n",
    "  |\\\n",
    "  | \\\n",
    "a |  \\ c\n",
    "  |   \\\n",
    "  |____\\\n",
    "     b\n",
    "```\n",
    "\n",
    "- stwórz DataFrame zawierający dane z listy pod nazwanymi kolumnami `a` i `b`\n",
    "- dodaj kolumnę `c` z obliczoną długością przeciwprostokątnej\n",
    "- dodaj kolumnę `l` z obliczoną sumaryczną długością boków\n",
    "- podaj sumaryczną długość boków wszystkich trójkątów"
   ]
  },
  {
   "cell_type": "code",
   "execution_count": 3,
   "metadata": {},
   "outputs": [
    {
     "data": {
      "text/plain": [
       "[[3, 4], [5, 12], [8, 15], [7, 24], [9, 40]]"
      ]
     },
     "execution_count": 3,
     "metadata": {},
     "output_type": "execute_result"
    }
   ],
   "source": [
    "t = [\n",
    "    [3, 4],\n",
    "    [5, 12],\n",
    "    [8, 15],\n",
    "    [7, 24],\n",
    "    [9, 40],\n",
    "]\n",
    "t"
   ]
  },
  {
   "cell_type": "code",
   "execution_count": null,
   "metadata": {},
   "outputs": [],
   "source": []
  }
 ],
 "metadata": {
  "kernelspec": {
   "display_name": "Python 3",
   "language": "python",
   "name": "python3"
  },
  "language_info": {
   "codemirror_mode": {
    "name": "ipython",
    "version": 3
   },
   "file_extension": ".py",
   "mimetype": "text/x-python",
   "name": "python",
   "nbconvert_exporter": "python",
   "pygments_lexer": "ipython3",
   "version": "3.8.5"
  }
 },
 "nbformat": 4,
 "nbformat_minor": 4
}
